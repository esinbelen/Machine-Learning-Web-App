{
 "cells": [
  {
   "cell_type": "code",
   "execution_count": 4,
   "id": "31ffa79e-868c-452b-8f51-46a2e9906a5d",
   "metadata": {},
   "outputs": [],
   "source": [
    "import scipy\n",
    "import pickle\n",
    "import numpy as np\n",
    "import pandas as pd\n",
    "import matplotlib.pyplot as plt\n",
    "from sklearn.pipeline import make_pipeline\n",
    "import os\n",
    "\n",
    "# skimage\n",
    "import skimage\n",
    "import skimage.color\n",
    "import skimage.transform\n",
    "import skimage.feature\n",
    "import skimage.io"
   ]
  },
  {
   "cell_type": "code",
   "execution_count": 3,
   "id": "a1f81e95-76df-4f13-a279-1d9e2e709319",
   "metadata": {},
   "outputs": [],
   "source": [
    "from sklearn.base import BaseEstimator,TransformerMixin\n",
    "class rgb2gray_transform(BaseEstimator,TransformerMixin):\n",
    "    import skimage.color\n",
    "    def __init__(self):\n",
    "        pass\n",
    "    \n",
    "    def fit(self,X,y=None):\n",
    "        return self\n",
    "    \n",
    "    def transform(self,X,y=None):\n",
    "        return np.array([skimage.color.rgb2gray(x) for x in X])\n",
    "    \n",
    "class hogtransformer(BaseEstimator,TransformerMixin):\n",
    "    import skimage.feature\n",
    "    def __init__(self,orientations=9,pixels_per_cell=(8, 8),cells_per_block=(3, 3),):\n",
    "        self.orientations = orientations\n",
    "        self.pixels_per_cell = pixels_per_cell\n",
    "        self.cells_per_block = cells_per_block\n",
    "        \n",
    "        \n",
    "    def fit(self,X,y=None):\n",
    "        return self\n",
    "    \n",
    "    def transform(self,X,y=None):\n",
    "        def local_hog(img):\n",
    "            hog_features= skimage.feature.hog(img,orientations=self.orientations,\n",
    "                                pixels_per_cell=self.pixels_per_cell,\n",
    "                                cells_per_block=self.cells_per_block)\n",
    "            \n",
    "            return hog_features\n",
    "        \n",
    "        hfeatures = np.array([local_hog(x) for x in X])\n",
    "        return hfeatures"
   ]
  },
  {
   "cell_type": "code",
   "execution_count": 5,
   "id": "7d0bef14-82dc-4cb6-ac25-fac10bdd591d",
   "metadata": {},
   "outputs": [],
   "source": [
    "# pipeline model\n",
    "image = skimage.io.imread('eagle.jpg')\n",
    "# transform image into 80 x 80\n",
    "image_resize = skimage.transform.resize(image,(80,80)) \n",
    "image_scale = 255*image_resize\n",
    "image_transform = image_scale.astype(np.uint8)\n",
    "# rgb to gray\n",
    "gray = skimage.color.rgb2gray(image_transform)\n",
    "# hog feature\n",
    "feature_vector = skimage.feature.hog(gray,orientations=10,pixels_per_cell=(8,8),cells_per_block=(2,2))"
   ]
  },
  {
   "cell_type": "code",
   "execution_count": 7,
   "id": "2a175228-8f62-4a7e-8d17-f9f7006b49f3",
   "metadata": {},
   "outputs": [
    {
     "data": {
      "text/plain": [
       "array([0.19801825, 0.14617992, 0.12000975, ..., 0.0459591 , 0.04528046,\n",
       "       0.00672236])"
      ]
     },
     "execution_count": 7,
     "metadata": {},
     "output_type": "execute_result"
    }
   ],
   "source": [
    "feature_vector"
   ]
  },
  {
   "cell_type": "code",
   "execution_count": 8,
   "id": "c71ac5f2-bad4-4631-bc40-0a47f6a4082c",
   "metadata": {},
   "outputs": [],
   "source": [
    "# load the model\n",
    "model = pickle.load(open('dsa_image_classification_sgd.pickle','rb'))\n",
    "scaler = pickle.load(open('dsa_scaler.pickle','rb'))"
   ]
  },
  {
   "cell_type": "code",
   "execution_count": 9,
   "id": "374c5dd1-2f37-43e8-9ec4-12aa68d69712",
   "metadata": {},
   "outputs": [
    {
     "data": {
      "text/plain": [
       "{'alpha': 0.01,\n",
       " 'average': False,\n",
       " 'class_weight': None,\n",
       " 'early_stopping': True,\n",
       " 'epsilon': 0.1,\n",
       " 'eta0': 0.0,\n",
       " 'fit_intercept': True,\n",
       " 'l1_ratio': 0.15,\n",
       " 'learning_rate': 'optimal',\n",
       " 'loss': 'hinge',\n",
       " 'max_iter': 1000,\n",
       " 'n_iter_no_change': 5,\n",
       " 'n_jobs': None,\n",
       " 'penalty': 'l2',\n",
       " 'power_t': 0.5,\n",
       " 'random_state': None,\n",
       " 'shuffle': True,\n",
       " 'tol': 0.001,\n",
       " 'validation_fraction': 0.1,\n",
       " 'verbose': 0,\n",
       " 'warm_start': False}"
      ]
     },
     "execution_count": 9,
     "metadata": {},
     "output_type": "execute_result"
    }
   ],
   "source": [
    "model.get_params()"
   ]
  },
  {
   "cell_type": "code",
   "execution_count": 11,
   "id": "0cdc0e8c-7030-4765-9644-041ae72ea95e",
   "metadata": {},
   "outputs": [],
   "source": [
    "scalex = scaler.transform(feature_vector.reshape(1,-1))\n",
    "result = model.predict(scalex)"
   ]
  },
  {
   "cell_type": "code",
   "execution_count": 12,
   "id": "36b85668-bb6c-416b-a1e4-9979f71270c0",
   "metadata": {},
   "outputs": [
    {
     "data": {
      "text/plain": [
       "array(['eagle'], dtype='<U8')"
      ]
     },
     "execution_count": 12,
     "metadata": {},
     "output_type": "execute_result"
    }
   ],
   "source": [
    "result"
   ]
  },
  {
   "cell_type": "code",
   "execution_count": 15,
   "id": "996fd7f9-eb5e-4c78-b0a0-6c81977c4958",
   "metadata": {},
   "outputs": [],
   "source": [
    "# calculate the probability\n",
    "desicion_value = model.decision_function(scalex)"
   ]
  },
  {
   "cell_type": "code",
   "execution_count": 16,
   "id": "8525da8c-0b03-455d-9af5-ec2d8a0915c1",
   "metadata": {},
   "outputs": [
    {
     "data": {
      "text/plain": [
       "array([[-151.15014372, -185.66131155, -130.33557941, -180.39661515,\n",
       "        -250.31365251, -198.74929947,  -13.21809899,    0.42303014,\n",
       "        -226.19021161, -154.02355468, -231.34417865,  -54.04559198,\n",
       "        -271.00883218, -219.98209389,  -71.56603805,  -43.07498092,\n",
       "        -175.01583336, -158.41403915, -156.11285067, -324.78620353]])"
      ]
     },
     "execution_count": 16,
     "metadata": {},
     "output_type": "execute_result"
    }
   ],
   "source": [
    "desicion_value"
   ]
  },
  {
   "cell_type": "code",
   "execution_count": 20,
   "id": "f732e774-5f6b-4b10-ae98-b0031be9eacc",
   "metadata": {},
   "outputs": [],
   "source": [
    "labels = model.classes_"
   ]
  },
  {
   "cell_type": "code",
   "execution_count": 19,
   "id": "95bf8319-0ecc-40b1-b1fb-611721fe002c",
   "metadata": {},
   "outputs": [],
   "source": [
    "desicion_value = desicion_value.flatten()"
   ]
  },
  {
   "cell_type": "code",
   "execution_count": 23,
   "id": "aa6983c3-2346-41fd-8d2e-e35e0ca948b7",
   "metadata": {},
   "outputs": [
    {
     "data": {
      "image/png": "[encoded data removed]",
      "text/plain": [
       "<Figure size 432x288 with 1 Axes>"
      ]
     },
     "metadata": {
      "needs_background": "light"
     },
     "output_type": "display_data"
    }
   ],
   "source": [
    "plt.barh(labels, desicion_value)\n",
    "plt.grid()"
   ]
  },
  {
   "cell_type": "code",
   "execution_count": 26,
   "id": "b40c23a7-a714-4a18-97be-74608bd0dcaf",
   "metadata": {},
   "outputs": [
    {
     "data": {
      "text/plain": [
       "array([0.03332697, 0.02220622, 0.04257353, 0.02362504, 0.01037909,\n",
       "       0.01903737, 0.16885157, 0.19824355, 0.01378505, 0.03221924,\n",
       "       0.01297407, 0.10445114, 0.00813627, 0.01482949, 0.08499618,\n",
       "       0.11884015, 0.02516886, 0.03059736, 0.03143699, 0.00432186])"
      ]
     },
     "execution_count": 26,
     "metadata": {},
     "output_type": "execute_result"
    }
   ],
   "source": [
    "# calculate z-score\n",
    "z = scipy.stats.zscore(desicion_value)\n",
    "prob_value = scipy.special.softmax(z)\n",
    "prob_value"
   ]
  },
  {
   "cell_type": "code",
   "execution_count": 31,
   "id": "c2a23aea-f652-4b1f-9127-c055f59a759f",
   "metadata": {},
   "outputs": [],
   "source": [
    "# top 5 probability values\n",
    "top_5_prob_index = prob_value.argsort()[::-1][:5]"
   ]
  },
  {
   "cell_type": "code",
   "execution_count": 32,
   "id": "8e9f2c29-45bd-413e-9c4b-881bad513900",
   "metadata": {},
   "outputs": [
    {
     "data": {
      "text/plain": [
       "array([ 7,  6, 15, 11, 14], dtype=int64)"
      ]
     },
     "execution_count": 32,
     "metadata": {},
     "output_type": "execute_result"
    }
   ],
   "source": [
    "top_5_prob_index"
   ]
  },
  {
   "cell_type": "code",
   "execution_count": 34,
   "id": "0848bac3-62c8-41e4-b995-edb3ab8b7fbe",
   "metadata": {},
   "outputs": [],
   "source": [
    "top_labels = labels[top_5_prob_index]\n",
    "top_prob = prob_value[top_5_prob_index]"
   ]
  },
  {
   "cell_type": "code",
   "execution_count": 35,
   "id": "0941a4ef-a925-469f-b48b-bfeddaae6a1e",
   "metadata": {},
   "outputs": [
    {
     "data": {
      "text/plain": [
       "(array([0.19824355, 0.16885157, 0.11884015, 0.10445114, 0.08499618]),\n",
       " array(['eagle', 'duck', 'pigeon', 'monkey', 'panda'], dtype='<U8'))"
      ]
     },
     "execution_count": 35,
     "metadata": {},
     "output_type": "execute_result"
    }
   ],
   "source": [
    "top_prob,top_labels"
   ]
  },
  {
   "cell_type": "code",
   "execution_count": 38,
   "id": "b2d862c2-2d91-426a-9e0a-283d5e9ddb42",
   "metadata": {},
   "outputs": [],
   "source": [
    "top_dict = dict()\n",
    "for key,val in zip(top_labels,top_prob):\n",
    "    top_dict.update({key:np.round(val,3)})"
   ]
  },
  {
   "cell_type": "code",
   "execution_count": 39,
   "id": "57c00032-e524-48a1-8900-cf8c02d59277",
   "metadata": {},
   "outputs": [
    {
     "data": {
      "text/plain": [
       "{'eagle': 0.198,\n",
       " 'duck': 0.169,\n",
       " 'pigeon': 0.119,\n",
       " 'monkey': 0.104,\n",
       " 'panda': 0.085}"
      ]
     },
     "execution_count": 39,
     "metadata": {},
     "output_type": "execute_result"
    }
   ],
   "source": [
    "top_dict"
   ]
  },
  {
   "cell_type": "code",
   "execution_count": 40,
   "id": "482302d7-31d6-4fb6-a7bc-84127ee7190c",
   "metadata": {},
   "outputs": [],
   "source": [
    "def pipeline_model(path, scaler_transform, model_sgd):\n",
    "    # pipeline model\n",
    "    image = skimage.io.imread('eagle.jpg')\n",
    "    # transform image into 80 x 80\n",
    "    image_resize = skimage.transform.resize(image,(80,80)) \n",
    "    image_scale = 255*image_resize\n",
    "    image_transform = image_scale.astype(np.uint8)\n",
    "    # rgb to gray\n",
    "    gray = skimage.color.rgb2gray(image_transform)\n",
    "    # hog feature\n",
    "    feature_vector = skimage.feature.hog(gray,orientations=10,pixels_per_cell=(8,8),cells_per_block=(2,2))\n",
    "   \n",
    "    # scaling\n",
    "    scalex = scaler.transform(feature_vector.reshape(1,-1))\n",
    "    result = model.predict(scalex)\n",
    "    \n",
    "    # decision function # confidence\n",
    "    desicion_value = model.decision_function(scalex).flatten()\n",
    "    labels = model_sgd.classes_\n",
    "    # probability\n",
    "    z = scipy.stats.zscore(desicion_value)\n",
    "    prob_value = scipy.special.softmax(z)\n",
    "    \n",
    "    # top 5\n",
    "    top_5_prob_ind = prob_value.argsort()[::-1][:5]\n",
    "    top_labels = labels[top_5_prob_ind]\n",
    "    top_prob = prob_value[top_5_prob_ind]\n",
    "    # put in dictionary\n",
    "    top_dict = dict()\n",
    "    for key,val in zip(top_labels,top_prob):\n",
    "        top_dict.update({key:np.round(val,3)})\n",
    "    return top_dict"
   ]
  },
  {
   "cell_type": "code",
   "execution_count": 41,
   "id": "4612bdad-cc1c-4031-98a6-4c99292fd71c",
   "metadata": {},
   "outputs": [
    {
     "data": {
      "text/plain": [
       "{'eagle': 0.198,\n",
       " 'duck': 0.169,\n",
       " 'pigeon': 0.119,\n",
       " 'monkey': 0.104,\n",
       " 'panda': 0.085}"
      ]
     },
     "execution_count": 41,
     "metadata": {},
     "output_type": "execute_result"
    }
   ],
   "source": [
    "res = pipeline_model('eagle.jpg',scaler,model)\n",
    "res"
   ]
  },
  {
   "cell_type": "code",
   "execution_count": null,
   "id": "f2749528-3395-4c33-b926-c01e013f5fbe",
   "metadata": {},
   "outputs": [],
   "source": []
  }
 ],
 "metadata": {
  "kernelspec": {
   "display_name": "Python 3 (ipykernel)",
   "language": "python",
   "name": "python3"
  },
  "language_info": {
   "codemirror_mode": {
    "name": "ipython",
    "version": 3
   },
   "file_extension": ".py",
   "mimetype": "text/x-python",
   "name": "python",
   "nbconvert_exporter": "python",
   "pygments_lexer": "ipython3",
   "version": "3.9.12"
  }
 },
 "nbformat": 4,
 "nbformat_minor": 5
}
